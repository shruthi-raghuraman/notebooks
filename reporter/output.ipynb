{
 "cells": [
  {
   "cell_type": "code",
   "execution_count": 1,
   "metadata": {
    "papermill": {
     "duration": 0.009718,
     "end_time": "2019-12-01T16:34:30.797402",
     "exception": false,
     "start_time": "2019-12-01T16:34:30.787684",
     "status": "completed"
    },
    "tags": [
     "parameters"
    ]
   },
   "outputs": [],
   "source": [
    "# Parameters\n",
    "msgs = [\"changes made in papermill\"]\n"
   ]
  },
  {
   "cell_type": "code",
   "execution_count": 2,
   "metadata": {
    "papermill": {
     "duration": 0.010978,
     "end_time": "2019-12-01T16:34:30.808720",
     "exception": false,
     "start_time": "2019-12-01T16:34:30.797742",
     "status": "completed"
    },
    "tags": [
     "parameter"
    ]
   },
   "outputs": [
    {
     "name": "stdout",
     "output_type": "stream",
     "text": [
      "Hello\n"
     ]
    }
   ],
   "source": [
    "print(\"Hello\")"
   ]
  }
 ],
 "metadata": {
  "celltoolbar": "Tags",
  "kernelspec": {
   "display_name": "Python 3",
   "language": "python",
   "name": "python3"
  },
  "language_info": {
   "codemirror_mode": {
    "name": "ipython",
    "version": 3
   },
   "file_extension": ".py",
   "mimetype": "text/x-python",
   "name": "python",
   "nbconvert_exporter": "python",
   "pygments_lexer": "ipython3",
   "version": "3.7.4"
  },
  "papermill": {
   "duration": 1.469755,
   "end_time": "2019-12-01T16:34:31.286868",
   "environment_variables": {},
   "exception": false,
   "output_path": "output.ipynb",
   "parameters": {
    "msgs": [
     "changes made in papermill"
    ]
   },
   "start_time": "2019-12-01T16:34:29.817113",
   "version": "0.13.4"
  }
 },
 "nbformat": 4,
 "nbformat_minor": 2
}